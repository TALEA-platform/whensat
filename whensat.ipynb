{
 "cells": [
  {
   "cell_type": "code",
   "execution_count": 1,
   "id": "45661391",
   "metadata": {},
   "outputs": [],
   "source": [
    "import requests\n",
    "import geopandas as gpd\n",
    "from shapely.geometry import Point\n",
    "from datetime import datetime, timedelta\n",
    "from skyfield.api import load, wgs84\n",
    "from ics import Calendar, Event\n",
    "import os\n",
    "import json\n",
    "import csv\n",
    "from zoneinfo import ZoneInfo\n"
   ]
  },
  {
   "cell_type": "code",
   "execution_count": 12,
   "id": "bfdf7a67",
   "metadata": {},
   "outputs": [],
   "source": [
    "\n",
    "# === CONFIGURATION ===\n",
    "latitude, longitude = 44.4949, 11.3426  # Bologna\n",
    "calendar_filename = \"satellite_passes.ics\"\n",
    "json_filename = \"satellite_passes.json\"\n",
    "csv_filename = \"satellite_passes.csv\"\n",
    "natural_csv_filename = \"satellite_passes_natural.csv\"\n",
    "local_tz = ZoneInfo(\"Europe/Rome\")\n",
    "maxdays = 60\n",
    "destdir = \"docs\" + os.sep + \"data\" + os.sep\n",
    "os.makedirs(destdir, exist_ok=True)"
   ]
  },
  {
   "cell_type": "code",
   "execution_count": 3,
   "id": "76260cf0",
   "metadata": {},
   "outputs": [],
   "source": [
    "\n",
    "# === SATELLITES TO TRACK ===\n",
    "satellite_names = [\"LANDSAT 8\", \"LANDSAT 9\", \"SENTINEL-2A\", \"SENTINEL-2B\", \"TERRA\", \"AQUA\"]"
   ]
  },
  {
   "cell_type": "code",
   "execution_count": 4,
   "id": "d2a50541",
   "metadata": {},
   "outputs": [],
   "source": [
    "# === Load TLEs ===\n",
    "tle_url = \"https://celestrak.org/NORAD/elements/gp.php?GROUP=active&FORMAT=tle\"\n",
    "satellites = load.tle_file(tle_url)\n",
    "sat_dict = {sat.name.upper(): sat for sat in satellites}"
   ]
  },
  {
   "cell_type": "code",
   "execution_count": 5,
   "id": "6cc94a70",
   "metadata": {},
   "outputs": [],
   "source": [
    "# === Function to find the last overpass ===\n",
    "def get_last_overpass(sat, name, lat, lon, days_back=10, tz=ZoneInfo(\"Europe/Rome\")):\n",
    "    location = wgs84.latlon(lat, lon)\n",
    "    now_local = datetime.now(tz)\n",
    "    ts = load.timescale()\n",
    "    t1 = ts.from_datetime(now_local.astimezone(ZoneInfo(\"UTC\")))\n",
    "    t0 = ts.from_datetime((now_local - timedelta(days=days_back)).astimezone(ZoneInfo(\"UTC\")))\n",
    "\n",
    "    t, events = sat.find_events(location, t0, t1, altitude_degrees=10.0)\n",
    "    passes = []\n",
    "    current = {}\n",
    "    for ti, event in zip(t, events):\n",
    "        time_utc = ti.utc_datetime().replace(tzinfo=ZoneInfo(\"UTC\"))\n",
    "        time_local = time_utc.astimezone(tz)\n",
    "        if event == 0:\n",
    "            current[\"start\"] = time_local\n",
    "        elif event == 1:\n",
    "            current[\"peak\"] = time_local\n",
    "        elif event == 2:\n",
    "            current[\"end\"] = time_local\n",
    "            current[\"satellite\"] = name\n",
    "            if all(k in current for k in (\"start\", \"peak\", \"end\", \"satellite\")):\n",
    "                passes.append(current)\n",
    "            current = {}\n",
    "    return passes[-1] if passes else None"
   ]
  },
  {
   "cell_type": "code",
   "execution_count": 6,
   "id": "6945fca0",
   "metadata": {},
   "outputs": [],
   "source": [
    "# === Function to find future passes ===\n",
    "def find_passes(sat, name, t0, t1, location, tz):\n",
    "    t, events = sat.find_events(location, t0, t1, altitude_degrees=10.0)\n",
    "    passes = []\n",
    "    current = {}\n",
    "    for ti, event in zip(t, events):\n",
    "        time_utc = ti.utc_datetime().replace(tzinfo=ZoneInfo(\"UTC\"))\n",
    "        time_local = time_utc.astimezone(tz)\n",
    "        if event == 0:\n",
    "            current[\"start\"] = time_local\n",
    "        elif event == 1:\n",
    "            current[\"peak\"] = time_local\n",
    "        elif event == 2:\n",
    "            current[\"end\"] = time_local\n",
    "            current[\"satellite\"] = name\n",
    "            if all(k in current for k in (\"start\", \"peak\", \"end\", \"satellite\")):\n",
    "                passes.append(current)\n",
    "            current = {}\n",
    "    return passes"
   ]
  },
  {
   "cell_type": "code",
   "execution_count": 7,
   "id": "0559a927",
   "metadata": {},
   "outputs": [
    {
     "name": "stdout",
     "output_type": "stream",
     "text": [
      "Last pass for LANDSAT 8: 2025-07-11 23:51\n",
      "Last pass for LANDSAT 9: 2025-07-12 10:59\n",
      "Last pass for SENTINEL-2A: 2025-07-12 11:04\n",
      "Last pass for SENTINEL-2B: 2025-07-12 10:55\n",
      "Last pass for TERRA: 2025-07-12 09:37\n",
      "Last pass for AQUA: 2025-07-12 05:23\n"
     ]
    }
   ],
   "source": [
    "# === Compute passes for all satellites ===\n",
    "all_future_passes = []\n",
    "location = wgs84.latlon(latitude, longitude)\n",
    "ts = load.timescale()\n",
    "\n",
    "for name in satellite_names:\n",
    "    sat = sat_dict.get(name)\n",
    "    if not sat:\n",
    "        print(f\"Satellite {name} not found in TLE set.\")\n",
    "        continue\n",
    "\n",
    "    last_pass = get_last_overpass(sat, name, latitude, longitude, days_back=maxdays, tz=local_tz)\n",
    "    if not last_pass:\n",
    "        print(f\"No recent pass for {name}\")\n",
    "        continue\n",
    "\n",
    "    print(f\"Last pass for {name}: {last_pass['start'].strftime('%Y-%m-%d %H:%M')}\")\n",
    "\n",
    "    start_local = last_pass[\"start\"]\n",
    "    end_local = start_local + timedelta(days=60)\n",
    "\n",
    "    t0 = ts.from_datetime(start_local.astimezone(ZoneInfo(\"UTC\")))\n",
    "    t1 = ts.from_datetime(end_local.astimezone(ZoneInfo(\"UTC\")))\n",
    "\n",
    "    future = find_passes(sat, name, t0, t1, location, local_tz)\n",
    "    all_future_passes.extend(future)"
   ]
  },
  {
   "cell_type": "code",
   "execution_count": null,
   "id": "9fe38fd4",
   "metadata": {},
   "outputs": [
    {
     "name": "stdout",
     "output_type": "stream",
     "text": [
      "Creating calendar file: satellite_passes.ics\n",
      "Calendar saved to satellite_passes.ics\n"
     ]
    }
   ],
   "source": [
    "\n",
    "# === Sort and export ===\n",
    "all_future_passes.sort(key=lambda x: x[\"start\"])\n",
    "print(f\"Creating calendar file: {calendar_filename}\")\n",
    "cal = Calendar()\n",
    "for p in all_future_passes:\n",
    "    e = Event()\n",
    "    e.name = f\"{p['satellite']} Overpass - Bologna\"\n",
    "    e.begin = p[\"start\"]\n",
    "    e.end = p[\"end\"]\n",
    "    e.description = (\n",
    "        f\"{p['satellite']} will pass over Bologna\\n\"\n",
    "        f\"Start: {p['start']}\\n\"\n",
    "        f\"Peak: {p['peak']}\\n\"\n",
    "        f\"End: {p['end']}\"\n",
    "    )\n",
    "    cal.events.add(e)\n",
    "\n",
    "with open(destdir + calendar_filename, \"w\") as f:\n",
    "    f.writelines(cal)\n",
    "print(f\"Calendar saved to {calendar_filename}\")\n"
   ]
  },
  {
   "cell_type": "code",
   "execution_count": null,
   "id": "010ebfde",
   "metadata": {},
   "outputs": [
    {
     "name": "stdout",
     "output_type": "stream",
     "text": [
      "Saving data to JSON file: satellite_passes.json\n",
      "JSON saved to satellite_passes.json\n"
     ]
    }
   ],
   "source": [
    "# === Save to JSON ===\n",
    "print(f\"Saving data to JSON file: {json_filename}\")\n",
    "json_data = [\n",
    "    {\n",
    "        \"satellite\": p[\"satellite\"],\n",
    "        \"start\": p[\"start\"].isoformat(),\n",
    "        \"peak\": p[\"peak\"].isoformat(),\n",
    "        \"end\": p[\"end\"].isoformat(),\n",
    "    }\n",
    "    for p in all_future_passes\n",
    "]\n",
    "\n",
    "with open(destdir + json_filename, \"w\") as f:\n",
    "    json.dump(json_data, f, indent=2)\n",
    "\n",
    "print(f\"JSON saved to {json_filename}\")"
   ]
  },
  {
   "cell_type": "code",
   "execution_count": null,
   "id": "0646b22c",
   "metadata": {},
   "outputs": [
    {
     "name": "stdout",
     "output_type": "stream",
     "text": [
      "Saving structured data to CSV file: satellite_passes.csv\n",
      "Structured CSV saved to satellite_passes.csv\n"
     ]
    }
   ],
   "source": [
    "# === Save structured CSV ===\n",
    "print(f\"Saving structured data to CSV file: {csv_filename}\")\n",
    "with open(destdir + csv_filename, \"w\", newline=\"\") as csvfile:\n",
    "    writer = csv.DictWriter(csvfile, fieldnames=[\"satellite\", \"start\", \"peak\", \"end\"])\n",
    "    writer.writeheader()\n",
    "    for p in all_future_passes:\n",
    "        writer.writerow({\n",
    "            \"satellite\": p[\"satellite\"],\n",
    "            \"start\": p[\"start\"].isoformat(),\n",
    "            \"peak\": p[\"peak\"].isoformat(),\n",
    "            \"end\": p[\"end\"].isoformat()\n",
    "        })\n",
    "\n",
    "print(f\"Structured CSV saved to {csv_filename}\")"
   ]
  },
  {
   "cell_type": "code",
   "execution_count": null,
   "id": "990acd05",
   "metadata": {},
   "outputs": [
    {
     "name": "stdout",
     "output_type": "stream",
     "text": [
      "📝 Saving natural language summary to CSV file: satellite_passes_natural.csv\n",
      "Natural language CSV saved to satellite_passes_natural.csv\n"
     ]
    }
   ],
   "source": [
    "# === Save natural language summary to CSV ===\n",
    "def describe_passes(passes):\n",
    "    lines = []\n",
    "    for p in passes:\n",
    "        start = p[\"start\"].strftime(\"%A, %B %d %Y at %H:%M\")\n",
    "        peak = p[\"peak\"].strftime(\"%H:%M\")\n",
    "        end = p[\"end\"].strftime(\"%H:%M\")\n",
    "        description = (\n",
    "            f\"On {start}, {p['satellite']} will pass over Bologna. \"\n",
    "            f\"It will reach peak visibility at {peak} and disappear below the horizon at {end}.\"\n",
    "        )\n",
    "        lines.append({\"description\": description})\n",
    "    return lines\n",
    "\n",
    "print(f\"Saving natural language summary to CSV file: {natural_csv_filename}\")\n",
    "natural_data = describe_passes(all_future_passes)\n",
    "with open(destdir + natural_csv_filename, \"w\", newline=\"\") as csvfile:\n",
    "    writer = csv.DictWriter(csvfile, fieldnames=[\"description\"])\n",
    "    writer.writeheader()\n",
    "    writer.writerows(natural_data)\n",
    "\n",
    "print(f\"Natural language CSV saved to {natural_csv_filename}\")"
   ]
  }
 ],
 "metadata": {
  "kernelspec": {
   "display_name": "Python 3",
   "language": "python",
   "name": "python3"
  },
  "language_info": {
   "codemirror_mode": {
    "name": "ipython",
    "version": 3
   },
   "file_extension": ".py",
   "mimetype": "text/x-python",
   "name": "python",
   "nbconvert_exporter": "python",
   "pygments_lexer": "ipython3",
   "version": "3.13.3"
  }
 },
 "nbformat": 4,
 "nbformat_minor": 5
}
